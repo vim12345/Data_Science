{
 "cells": [
  {
   "cell_type": "code",
   "execution_count": 1,
   "id": "80e75c61-67c3-4a1d-af62-c0cb508f6622",
   "metadata": {},
   "outputs": [],
   "source": [
    "# also called anonymous funtion\n",
    "\n",
    "def addition(a,b):\n",
    "    return a+b\n",
    "    "
   ]
  },
  {
   "cell_type": "code",
   "execution_count": 2,
   "id": "92e6ec5e-288b-42d4-838f-8259eb57285d",
   "metadata": {},
   "outputs": [
    {
     "data": {
      "text/plain": [
       "106"
      ]
     },
     "execution_count": 2,
     "metadata": {},
     "output_type": "execute_result"
    }
   ],
   "source": [
    "addition(55,51)"
   ]
  },
  {
   "cell_type": "code",
   "execution_count": 3,
   "id": "f90068c6-b320-458e-be33-b8cc90395e65",
   "metadata": {},
   "outputs": [],
   "source": [
    "addition=lambda a,b:a+b\n"
   ]
  },
  {
   "cell_type": "code",
   "execution_count": 4,
   "id": "ec5c7337-fdf1-4c65-b068-f60a475b3df5",
   "metadata": {},
   "outputs": [
    {
     "data": {
      "text/plain": [
       "26"
      ]
     },
     "execution_count": 4,
     "metadata": {},
     "output_type": "execute_result"
    }
   ],
   "source": [
    "addition(12,14)"
   ]
  },
  {
   "cell_type": "code",
   "execution_count": 5,
   "id": "a19956ae-a11f-476c-a897-953c639620fc",
   "metadata": {},
   "outputs": [],
   "source": [
    "def even(num):\n",
    "    if num%2==0:\n",
    "        return True"
   ]
  },
  {
   "cell_type": "code",
   "execution_count": 7,
   "id": "d8fe08f6-6749-4219-af5f-85bce6a498c6",
   "metadata": {},
   "outputs": [
    {
     "data": {
      "text/plain": [
       "True"
      ]
     },
     "execution_count": 7,
     "metadata": {},
     "output_type": "execute_result"
    }
   ],
   "source": [
    "even(50)"
   ]
  },
  {
   "cell_type": "code",
   "execution_count": 8,
   "id": "d8df9d81-ef8d-4733-a2a6-6a4966281712",
   "metadata": {},
   "outputs": [],
   "source": [
    "even1=lambda a:a%2==0"
   ]
  },
  {
   "cell_type": "code",
   "execution_count": 9,
   "id": "dd64dc36-f898-4375-8b88-c8540625163d",
   "metadata": {},
   "outputs": [
    {
     "data": {
      "text/plain": [
       "True"
      ]
     },
     "execution_count": 9,
     "metadata": {},
     "output_type": "execute_result"
    }
   ],
   "source": [
    "even1(22)"
   ]
  },
  {
   "cell_type": "code",
   "execution_count": 10,
   "id": "c46c0d08-aee5-4ff1-9eaa-9f75adf55ca6",
   "metadata": {},
   "outputs": [],
   "source": [
    "def add(x,y,z):\n",
    "    return x+y+z"
   ]
  },
  {
   "cell_type": "code",
   "execution_count": 11,
   "id": "5fdb682f-ed58-41dc-8c32-e5b48ed9c512",
   "metadata": {},
   "outputs": [
    {
     "data": {
      "text/plain": [
       "14"
      ]
     },
     "execution_count": 11,
     "metadata": {},
     "output_type": "execute_result"
    }
   ],
   "source": [
    "add(2,5,7)"
   ]
  },
  {
   "cell_type": "code",
   "execution_count": null,
   "id": "1663dd3e-87a2-4f19-b792-70b30f10df79",
   "metadata": {},
   "outputs": [],
   "source": [
    "add1="
   ]
  }
 ],
 "metadata": {
  "kernelspec": {
   "display_name": "Python 3 (ipykernel)",
   "language": "python",
   "name": "python3"
  },
  "language_info": {
   "codemirror_mode": {
    "name": "ipython",
    "version": 3
   },
   "file_extension": ".py",
   "mimetype": "text/x-python",
   "name": "python",
   "nbconvert_exporter": "python",
   "pygments_lexer": "ipython3",
   "version": "3.11.5"
  }
 },
 "nbformat": 4,
 "nbformat_minor": 5
}
