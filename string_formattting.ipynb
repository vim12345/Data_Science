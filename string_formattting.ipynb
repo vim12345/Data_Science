{
 "cells": [
  {
   "cell_type": "code",
   "execution_count": 1,
   "id": "29dfdd93-fc92-4778-b6f8-90b1f2244123",
   "metadata": {},
   "outputs": [
    {
     "name": "stdout",
     "output_type": "stream",
     "text": [
      "Hello everyone\n"
     ]
    }
   ],
   "source": [
    "print(\"Hello everyone\")"
   ]
  },
  {
   "cell_type": "code",
   "execution_count": 2,
   "id": "80534556-3fab-435d-9d88-fe85bcb124b8",
   "metadata": {},
   "outputs": [],
   "source": [
    "strs=\"Hello Vimal\""
   ]
  },
  {
   "cell_type": "code",
   "execution_count": 4,
   "id": "cfe04695-18eb-4331-a54a-142757bb8d9e",
   "metadata": {},
   "outputs": [],
   "source": [
    "def greeting(name):\n",
    "    return \"Hello {}.Welcome To the community\".format(name)"
   ]
  },
  {
   "cell_type": "code",
   "execution_count": 5,
   "id": "d9d7012d-b519-4755-ac60-c8402b8341c8",
   "metadata": {},
   "outputs": [
    {
     "data": {
      "text/plain": [
       "'Hello Vimal.Welcome To the community'"
      ]
     },
     "execution_count": 5,
     "metadata": {},
     "output_type": "execute_result"
    }
   ],
   "source": [
    "greeting(\"Vimal\")"
   ]
  },
  {
   "cell_type": "code",
   "execution_count": 6,
   "id": "af411425-f988-47fb-bf54-71d3dec38858",
   "metadata": {},
   "outputs": [],
   "source": [
    "def welcome_email(firstname, lastname):\n",
    "    return \"Welcome {}.Everyone please welcome {}\".format(firstname, lastname)"
   ]
  },
  {
   "cell_type": "code",
   "execution_count": 9,
   "id": "a2bf0afb-bdd8-4054-8a21-6ec343501747",
   "metadata": {},
   "outputs": [
    {
     "data": {
      "text/plain": [
       "'Welcome Vimal.Everyone please welcome Kumar'"
      ]
     },
     "execution_count": 9,
     "metadata": {},
     "output_type": "execute_result"
    }
   ],
   "source": [
    "welcome_email(\"Vimal\",\"Kumar\")"
   ]
  },
  {
   "cell_type": "code",
   "execution_count": null,
   "id": "dd33b8fd-4acc-483c-a8f7-99831c295e0f",
   "metadata": {},
   "outputs": [],
   "source": []
  }
 ],
 "metadata": {
  "kernelspec": {
   "display_name": "Python 3 (ipykernel)",
   "language": "python",
   "name": "python3"
  },
  "language_info": {
   "codemirror_mode": {
    "name": "ipython",
    "version": 3
   },
   "file_extension": ".py",
   "mimetype": "text/x-python",
   "name": "python",
   "nbconvert_exporter": "python",
   "pygments_lexer": "ipython3",
   "version": "3.11.5"
  }
 },
 "nbformat": 4,
 "nbformat_minor": 5
}
