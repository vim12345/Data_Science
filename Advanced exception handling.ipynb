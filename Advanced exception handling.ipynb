{
 "cells": [
  {
   "cell_type": "code",
   "execution_count": 19,
   "id": "6ac06f83",
   "metadata": {},
   "outputs": [
    {
     "name": "stdout",
     "output_type": "stream",
     "text": [
      "enter the number 1 13\n",
      "enter the number 2 13\n",
      "1.0\n",
      "169\n",
      "26\n"
     ]
    }
   ],
   "source": [
    "# try else\n",
    "\n",
    "try:\n",
    "    a=int(input(\"enter the number 1 \"))\n",
    "    b=int(input(\"enter the number 2 \"))\n",
    "    c=a/b\n",
    "    d=a*b\n",
    "    e=a+b        \n",
    "except NameError:\n",
    "    print(\"user have not defined the varibale\")\n",
    "except ZeroDivisionError:\n",
    "    print(\"please provide number greater than 0\")\n",
    "except TpyeError:\n",
    "    print(\"try to make the datatype\")\n",
    "except Exception as ex:\n",
    "    print(ex)\n",
    "else:\n",
    "    print(c)\n",
    "    print(d)\n",
    "    print(e)"
   ]
  },
  {
   "cell_type": "code",
   "execution_count": 20,
   "id": "38385711",
   "metadata": {},
   "outputs": [
    {
     "name": "stdout",
     "output_type": "stream",
     "text": [
      "enter the number 1 1\n",
      "enter the number 2 3\n",
      "0.3333333333333333\n",
      "the execution is done\n"
     ]
    }
   ],
   "source": [
    "# try else finally\n",
    "\n",
    "try:\n",
    "    a=int(input(\"enter the number 1 \"))\n",
    "    b=int(input(\"enter the number 2 \"))\n",
    "    c=a/b       \n",
    "except NameError:\n",
    "    print(\"user have not defined the varibale\")\n",
    "except ZeroDivisionError:\n",
    "    print(\"please provide number greater than 0\")\n",
    "except TpyeError:\n",
    "    print(\"try to make the datatype\")\n",
    "except Exception as ex:\n",
    "    print(ex)\n",
    "else:\n",
    "    print(c)\n",
    "    \n",
    "finally:\n",
    "    print(\"the execution is done\")\n",
    "    "
   ]
  },
  {
   "cell_type": "code",
   "execution_count": 11,
   "id": "f65203f9",
   "metadata": {},
   "outputs": [
    {
     "ename": "TypeError",
     "evalue": "unsupported operand type(s) for +: 'int' and 'str'",
     "output_type": "error",
     "traceback": [
      "\u001b[1;31m---------------------------------------------------------------------------\u001b[0m",
      "\u001b[1;31mTypeError\u001b[0m                                 Traceback (most recent call last)",
      "Cell \u001b[1;32mIn[11], line 3\u001b[0m\n\u001b[0;32m      1\u001b[0m a\u001b[38;5;241m=\u001b[39m\u001b[38;5;241m1\u001b[39m\n\u001b[0;32m      2\u001b[0m b\u001b[38;5;241m=\u001b[39m\u001b[38;5;124m'\u001b[39m\u001b[38;5;124ms\u001b[39m\u001b[38;5;124m'\u001b[39m\n\u001b[1;32m----> 3\u001b[0m c\u001b[38;5;241m=\u001b[39ma\u001b[38;5;241m+\u001b[39mb\n",
      "\u001b[1;31mTypeError\u001b[0m: unsupported operand type(s) for +: 'int' and 'str'"
     ]
    }
   ],
   "source": [
    "a=1\n",
    "b='s'\n",
    "c=a+b"
   ]
  },
  {
   "cell_type": "code",
   "execution_count": null,
   "id": "c9d4ed55",
   "metadata": {},
   "outputs": [],
   "source": []
  }
 ],
 "metadata": {
  "kernelspec": {
   "display_name": "Python 3 (ipykernel)",
   "language": "python",
   "name": "python3"
  },
  "language_info": {
   "codemirror_mode": {
    "name": "ipython",
    "version": 3
   },
   "file_extension": ".py",
   "mimetype": "text/x-python",
   "name": "python",
   "nbconvert_exporter": "python",
   "pygments_lexer": "ipython3",
   "version": "3.11.4"
  }
 },
 "nbformat": 4,
 "nbformat_minor": 5
}
