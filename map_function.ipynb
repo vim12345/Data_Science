{
 "cells": [
  {
   "cell_type": "code",
   "execution_count": 2,
   "id": "35e198b3-9bde-4f52-be2f-1e2d2d3b8861",
   "metadata": {},
   "outputs": [],
   "source": [
    "def even_or_odd(num):\n",
    "    if num%2==0:\n",
    "        return \"the {} is Even\".format(num)\n",
    "    else:\n",
    "        return \"the {} is odd\".format(num)"
   ]
  },
  {
   "cell_type": "code",
   "execution_count": 3,
   "id": "e4bafefd-5295-4ef8-83d8-a0b59989f18b",
   "metadata": {},
   "outputs": [
    {
     "data": {
      "text/plain": [
       "'the 24 is Even'"
      ]
     },
     "execution_count": 3,
     "metadata": {},
     "output_type": "execute_result"
    }
   ],
   "source": [
    "even_or_odd(24)"
   ]
  },
  {
   "cell_type": "code",
   "execution_count": 5,
   "id": "ce1f04e8-846b-4465-ae14-7615431f459d",
   "metadata": {},
   "outputs": [],
   "source": [
    "lst=[1,2,3,4,5,6,7,8,9,10,24]"
   ]
  },
  {
   "cell_type": "code",
   "execution_count": 6,
   "id": "27e4c7bb-3a10-4cec-8772-f15afcd82d4b",
   "metadata": {},
   "outputs": [
    {
     "data": {
      "text/plain": [
       "<map at 0x1993f1f3460>"
      ]
     },
     "execution_count": 6,
     "metadata": {},
     "output_type": "execute_result"
    }
   ],
   "source": [
    "map(even_or_odd, lst)"
   ]
  },
  {
   "cell_type": "code",
   "execution_count": 7,
   "id": "4946080c-f45c-4726-aa70-45ed52bc0830",
   "metadata": {},
   "outputs": [
    {
     "data": {
      "text/plain": [
       "['the 1 is odd',\n",
       " 'the 2 is Even',\n",
       " 'the 3 is odd',\n",
       " 'the 4 is Even',\n",
       " 'the 5 is odd',\n",
       " 'the 6 is Even',\n",
       " 'the 7 is odd',\n",
       " 'the 8 is Even',\n",
       " 'the 9 is odd',\n",
       " 'the 10 is Even',\n",
       " 'the 24 is Even']"
      ]
     },
     "execution_count": 7,
     "metadata": {},
     "output_type": "execute_result"
    }
   ],
   "source": [
    "list(map(even_or_odd, lst))"
   ]
  },
  {
   "cell_type": "code",
   "execution_count": null,
   "id": "e1ede3b6-6662-4b4c-a3ff-10771f840fb0",
   "metadata": {},
   "outputs": [],
   "source": []
  }
 ],
 "metadata": {
  "kernelspec": {
   "display_name": "Python 3 (ipykernel)",
   "language": "python",
   "name": "python3"
  },
  "language_info": {
   "codemirror_mode": {
    "name": "ipython",
    "version": 3
   },
   "file_extension": ".py",
   "mimetype": "text/x-python",
   "name": "python",
   "nbconvert_exporter": "python",
   "pygments_lexer": "ipython3",
   "version": "3.11.5"
  }
 },
 "nbformat": 4,
 "nbformat_minor": 5
}
