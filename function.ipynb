{
 "cells": [
  {
   "cell_type": "code",
   "execution_count": 2,
   "id": "5fbba994-c2f1-4d76-a0c9-5bee16c4b2c4",
   "metadata": {},
   "outputs": [
    {
     "name": "stdout",
     "output_type": "stream",
     "text": [
      "number is even\n",
      "24\n"
     ]
    }
   ],
   "source": [
    "num=24\n",
    "if num%2==0:\n",
    "    \n",
    "   print(\"number is even\")\n",
    "else:\n",
    "    print(\"The num is odd\")\n",
    "print(num)\n"
   ]
  },
  {
   "cell_type": "code",
   "execution_count": 3,
   "id": "36d227fc-cdff-4aaa-866c-c8d4381ad6be",
   "metadata": {},
   "outputs": [],
   "source": [
    "num=25"
   ]
  },
  {
   "cell_type": "code",
   "execution_count": 6,
   "id": "6e1f3da3-1666-4ed3-a2a4-6b93f87ecc88",
   "metadata": {},
   "outputs": [],
   "source": [
    "def even_odd(num):\n",
    "    if num%2==0:\n",
    "    \n",
    "       print(\"number is even\")\n",
    "    else:\n",
    "       print(\"The num is odd\")\n",
    "    "
   ]
  },
  {
   "cell_type": "code",
   "execution_count": 8,
   "id": "66ccee9e-7324-42ef-aa8d-38beb4c343ef",
   "metadata": {},
   "outputs": [
    {
     "name": "stdout",
     "output_type": "stream",
     "text": [
      "number is even\n"
     ]
    }
   ],
   "source": [
    "even_odd(1000)"
   ]
  },
  {
   "cell_type": "code",
   "execution_count": 9,
   "id": "d08a4107-7751-44c9-aa52-dc353f5aef42",
   "metadata": {},
   "outputs": [],
   "source": [
    "def hello_world():\n",
    "    print(\"hello welcome\")"
   ]
  },
  {
   "cell_type": "code",
   "execution_count": 12,
   "id": "131f6ec2-49bd-408d-94ea-eb23586a59b4",
   "metadata": {},
   "outputs": [
    {
     "name": "stdout",
     "output_type": "stream",
     "text": [
      "hello welcome\n"
     ]
    }
   ],
   "source": [
    "val=hello_world()"
   ]
  },
  {
   "cell_type": "code",
   "execution_count": 13,
   "id": "b27ca79f-f3fb-4d94-b95c-a3fcfe27d56c",
   "metadata": {},
   "outputs": [
    {
     "name": "stdout",
     "output_type": "stream",
     "text": [
      "None\n"
     ]
    }
   ],
   "source": [
    "print(val)"
   ]
  },
  {
   "cell_type": "code",
   "execution_count": 14,
   "id": "9060ef25-0a4b-41ef-b086-d45ec832f7b8",
   "metadata": {},
   "outputs": [],
   "source": [
    "def add_number(num1,num2):\n",
    "    return num1+num2"
   ]
  },
  {
   "cell_type": "code",
   "execution_count": 15,
   "id": "98235a35-9869-4787-b88b-652ed2a039dd",
   "metadata": {},
   "outputs": [
    {
     "data": {
      "text/plain": [
       "47"
      ]
     },
     "execution_count": 15,
     "metadata": {},
     "output_type": "execute_result"
    }
   ],
   "source": [
    "add_number(23,24)"
   ]
  },
  {
   "cell_type": "code",
   "execution_count": 19,
   "id": "76ae53d1-d3fc-482e-88c5-c01f9ecf2b04",
   "metadata": {},
   "outputs": [],
   "source": [
    "def hello(name, age=29):\n",
    "    print(\"My name is {} and age is {}\".format(name,age))"
   ]
  },
  {
   "cell_type": "code",
   "execution_count": 24,
   "id": "c0c7fef3-7ace-4950-a26b-ea4c254a9d08",
   "metadata": {},
   "outputs": [
    {
     "name": "stdout",
     "output_type": "stream",
     "text": [
      "My name is vimal kumar and age is 27\n"
     ]
    }
   ],
   "source": [
    "hello('vimal kumar', 27)"
   ]
  },
  {
   "cell_type": "code",
   "execution_count": 25,
   "id": "c707442b-c13a-456c-ac66-f7fa1eff1f2e",
   "metadata": {},
   "outputs": [],
   "source": [
    "def hello(*args, **kwargs):\n",
    "    print(args)\n",
    "    print(kwargs)"
   ]
  },
  {
   "cell_type": "code",
   "execution_count": 26,
   "id": "e7bc9db2-243d-40ff-8005-36a666afec2e",
   "metadata": {},
   "outputs": [
    {
     "name": "stdout",
     "output_type": "stream",
     "text": [
      "('vimal', 'Kumar')\n",
      "{'age': 26, 'dob': 2000}\n"
     ]
    }
   ],
   "source": [
    "hello(\"vimal\", \"Kumar\", age=26,dob=2000)"
   ]
  },
  {
   "cell_type": "code",
   "execution_count": 28,
   "id": "231bdaf7-4137-44c5-a8ed-0995fc5734cd",
   "metadata": {},
   "outputs": [],
   "source": [
    "lst=['vimal','kummar']\n",
    "dict_args={'age':27,'dob':1998}"
   ]
  },
  {
   "cell_type": "code",
   "execution_count": 29,
   "id": "7fba5254-86a9-4b0a-8d5a-3b477fcb290d",
   "metadata": {},
   "outputs": [
    {
     "name": "stdout",
     "output_type": "stream",
     "text": [
      "('vimal', 'kummar')\n",
      "{'age': 27, 'dob': 1998}\n"
     ]
    }
   ],
   "source": [
    "hello(*lst, **dict_args)"
   ]
  },
  {
   "cell_type": "code",
   "execution_count": 31,
   "id": "be9ec631-a66d-4295-9997-89372837c3ba",
   "metadata": {},
   "outputs": [],
   "source": [
    "lst=[1,2,3,4,5,6,7]"
   ]
  },
  {
   "cell_type": "code",
   "execution_count": 33,
   "id": "2dcb476c-5514-49da-9d82-93104d553035",
   "metadata": {},
   "outputs": [],
   "source": [
    "def evenoddSum(lst):\n",
    "    even_sum=0\n",
    "    odd_sum=0\n",
    "    for i in lst:\n",
    "        if i%2==0:\n",
    "            even_sum=even_sum+i\n",
    "        else:\n",
    "            odd_sum=odd_sum+i\n",
    "    return even_sum, odd_sum"
   ]
  },
  {
   "cell_type": "code",
   "execution_count": 34,
   "id": "27f029ed-3645-4e06-b79d-004c3a5eb571",
   "metadata": {},
   "outputs": [
    {
     "data": {
      "text/plain": [
       "(12, 16)"
      ]
     },
     "execution_count": 34,
     "metadata": {},
     "output_type": "execute_result"
    }
   ],
   "source": [
    "evenoddSum(lst)"
   ]
  },
  {
   "cell_type": "code",
   "execution_count": null,
   "id": "ea6cc326-0a84-4099-8c96-7521b85cd0ed",
   "metadata": {},
   "outputs": [],
   "source": []
  },
  {
   "cell_type": "code",
   "execution_count": null,
   "id": "decc377b-e9ad-4a2d-9fb9-a46eaae84d65",
   "metadata": {},
   "outputs": [],
   "source": []
  }
 ],
 "metadata": {
  "kernelspec": {
   "display_name": "Python 3 (ipykernel)",
   "language": "python",
   "name": "python3"
  },
  "language_info": {
   "codemirror_mode": {
    "name": "ipython",
    "version": 3
   },
   "file_extension": ".py",
   "mimetype": "text/x-python",
   "name": "python",
   "nbconvert_exporter": "python",
   "pygments_lexer": "ipython3",
   "version": "3.11.5"
  }
 },
 "nbformat": 4,
 "nbformat_minor": 5
}
