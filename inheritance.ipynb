{
 "cells": [
  {
   "cell_type": "code",
   "execution_count": 9,
   "id": "257a62d3",
   "metadata": {},
   "outputs": [],
   "source": [
    "class Car():\n",
    "    def __init__(self,windows,doors,enginetype):\n",
    "        self.windows=windows\n",
    "        self.doors=doors\n",
    "        self.enginetype=enginetype\n",
    "    def drive(self):\n",
    "        print(\"The person drive the car\")"
   ]
  },
  {
   "cell_type": "code",
   "execution_count": 10,
   "id": "9ec1e9eb",
   "metadata": {},
   "outputs": [],
   "source": [
    "car=Car(4,5,\"diesel\")"
   ]
  },
  {
   "cell_type": "code",
   "execution_count": 11,
   "id": "fefa8608",
   "metadata": {},
   "outputs": [
    {
     "name": "stdout",
     "output_type": "stream",
     "text": [
      "The person drive the car\n"
     ]
    }
   ],
   "source": [
    "car.drive()"
   ]
  },
  {
   "cell_type": "code",
   "execution_count": 12,
   "id": "e2d69b42",
   "metadata": {},
   "outputs": [],
   "source": [
    "class audi(Car):\n",
    "    def __init__(self,windows,doors,enginetype,enableai):\n",
    "        super().__init__(windows,doors,enginetype)\n",
    "        self.enableai=enableai\n",
    "    def selfdriving(self):\n",
    "        print(\"Audi supports Self driving\")"
   ]
  },
  {
   "cell_type": "code",
   "execution_count": 13,
   "id": "c10f51db",
   "metadata": {},
   "outputs": [],
   "source": [
    "audiQ7=audi(5,5,\"diesel\",True)"
   ]
  },
  {
   "cell_type": "code",
   "execution_count": 14,
   "id": "c15757d2",
   "metadata": {},
   "outputs": [
    {
     "name": "stdout",
     "output_type": "stream",
     "text": [
      "Audi supports Self driving\n"
     ]
    }
   ],
   "source": [
    "audiQ7.selfdriving()"
   ]
  },
  {
   "cell_type": "code",
   "execution_count": null,
   "id": "18fd04d0",
   "metadata": {},
   "outputs": [],
   "source": []
  }
 ],
 "metadata": {
  "kernelspec": {
   "display_name": "Python 3 (ipykernel)",
   "language": "python",
   "name": "python3"
  },
  "language_info": {
   "codemirror_mode": {
    "name": "ipython",
    "version": 3
   },
   "file_extension": ".py",
   "mimetype": "text/x-python",
   "name": "python",
   "nbconvert_exporter": "python",
   "pygments_lexer": "ipython3",
   "version": "3.11.4"
  }
 },
 "nbformat": 4,
 "nbformat_minor": 5
}
